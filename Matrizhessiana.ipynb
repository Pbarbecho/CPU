{
  "nbformat": 4,
  "nbformat_minor": 0,
  "metadata": {
    "colab": {
      "provenance": [],
      "authorship_tag": "ABX9TyMil7g00oopP6uCpO03BdoK",
      "include_colab_link": true
    },
    "kernelspec": {
      "name": "python3",
      "display_name": "Python 3"
    },
    "language_info": {
      "name": "python"
    }
  },
  "cells": [
    {
      "cell_type": "markdown",
      "metadata": {
        "id": "view-in-github",
        "colab_type": "text"
      },
      "source": [
        "<a href=\"https://colab.research.google.com/github/Pbarbecho/CPU/blob/master/Matrizhessiana.ipynb\" target=\"_parent\"><img src=\"https://colab.research.google.com/assets/colab-badge.svg\" alt=\"Open In Colab\"/></a>"
      ]
    },
    {
      "cell_type": "code",
      "source": [
        "import numpy as np\n",
        "\n",
        "# Función para verificar si una matriz es definida positiva\n",
        "def func_autovalores(H):\n",
        "  # Calcular los autovalores\n",
        "  autovalores = np.linalg.eigvals(H)\n",
        "  print(autovalores)\n",
        "\n",
        "  if np.all(autovalores > 0):\n",
        "    return \"Definida positiva\"\n",
        "  elif np.all(autovalores < 0):\n",
        "    return \"Definida negativa\"\n",
        "  elif np.any(autovalores > 0) and np.any(autovalores < 0):\n",
        "    return \"Indefinida\"\n",
        "  else:\n",
        "    return \"Semidefinida (algunos autovalores son cero)\"\n",
        "\n",
        "# Ejemplo: Matriz Hessiana\n",
        "H = np.array([[6, 2],\n",
        "              [2, 480]])\n",
        "\n",
        "resultado = func_autovalores(H)\n",
        "print(f\"La matriz es: {resultado}\")\n",
        "\n",
        "\n",
        "\n"
      ],
      "metadata": {
        "colab": {
          "base_uri": "https://localhost:8080/"
        },
        "id": "whe88BAs6KaY",
        "outputId": "103e9c9a-ef68-4d73-9ddc-2011c1657ae0"
      },
      "execution_count": 5,
      "outputs": [
        {
          "output_type": "stream",
          "name": "stdout",
          "text": [
            "[  5.99156133 480.00843867]\n",
            "La matriz es: Definida positiva\n"
          ]
        }
      ]
    }
  ]
}